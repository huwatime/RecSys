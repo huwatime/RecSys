{
 "cells": [
  {
   "cell_type": "code",
   "execution_count": 31,
   "metadata": {},
   "outputs": [
    {
     "name": "stdout",
     "output_type": "stream",
     "text": [
      "0.9983039133516411\n"
     ]
    }
   ],
   "source": [
    "import numpy as np\n",
    "from scipy.sparse import csr_matrix\n",
    "\n",
    "# generate user_list and item_list\n",
    "user_list = {}\n",
    "item_list = {}\n",
    "user_cnt = 0\n",
    "item_cnt = 0\n",
    "\n",
    "with open ('Dataset/ratings_Electronics_50.csv', 'r') as f:\n",
    "    for line in f:\n",
    "        user, item, rating, timestamp = line.split(\",\")\n",
    "        if (user not in user_list):\n",
    "            user_list[user] = user_cnt\n",
    "            user_cnt = user_cnt + 1\n",
    "        if (item not in item_list):\n",
    "            item_list[item] = item_cnt\n",
    "            item_cnt = item_cnt + 1\n",
    "\n",
    "\n",
    "# generate user-item sparse matrix\n",
    "rows = []\n",
    "cols = []\n",
    "vals = []\n",
    "\n",
    "with open ('Dataset/ratings_Electronics_50.csv', 'r') as f:\n",
    "    for line in f:\n",
    "        user, item, rating, timestamp = line.split(\",\")\n",
    "        rows.append(user_list[user])\n",
    "        cols.append(item_list[item])\n",
    "        vals.append(float(rating))\n",
    "\n",
    "user_item_matrix = csr_matrix((vals, (rows, cols)), dtype=float)\n",
    "sparsity = 1 - user_item_matrix.count_nonzero()/len(user_list)/len(item_list)\n",
    "print(sparsity)"
   ]
  }
 ],
 "metadata": {
  "kernelspec": {
   "display_name": "Python 3",
   "language": "python",
   "name": "python3"
  },
  "language_info": {
   "codemirror_mode": {
    "name": "ipython",
    "version": 3
   },
   "file_extension": ".py",
   "mimetype": "text/x-python",
   "name": "python",
   "nbconvert_exporter": "python",
   "pygments_lexer": "ipython3",
   "version": "3.6.4"
  }
 },
 "nbformat": 4,
 "nbformat_minor": 2
}
